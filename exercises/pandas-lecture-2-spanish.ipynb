{
 "cells": [
  {
   "cell_type": "markdown",
   "metadata": {},
   "source": [
    "1- Importa Pandas con el alias pd y Numpy con el alias np"
   ]
  },
  {
   "cell_type": "code",
   "execution_count": null,
   "metadata": {},
   "outputs": [],
   "source": []
  },
  {
   "cell_type": "markdown",
   "metadata": {},
   "source": [
    "2- Define una función llamada es_par que devuelva True si el argumento es un número par y False si es impar"
   ]
  },
  {
   "cell_type": "code",
   "execution_count": null,
   "metadata": {},
   "outputs": [],
   "source": []
  },
  {
   "cell_type": "markdown",
   "metadata": {},
   "source": [
    "3- Define ina función lambda llamada es_par_lambda que haga lo mismo que la función anterior. Comprueba para varios números del 1 al 20 que las dos funciones dan los mismos resultados"
   ]
  },
  {
   "cell_type": "code",
   "execution_count": null,
   "metadata": {},
   "outputs": [],
   "source": []
  },
  {
   "cell_type": "markdown",
   "metadata": {},
   "source": [
    "4- Define una función lambda que tome dos argumentos numéricos y devuelva True si el primer argumento es divisible entre el segundo y False en caso contrario. Comprueba esta función para los casoso (15,3), (90,7), (34,17) y (19,5)"
   ]
  },
  {
   "cell_type": "code",
   "execution_count": null,
   "metadata": {},
   "outputs": [],
   "source": []
  },
  {
   "cell_type": "markdown",
   "metadata": {},
   "source": [
    "5- Carga el dataset del archivo 'datos_estudio_1.csv' en un DataFrame llamado df_estudio_1. Utiliza el método apply y una función lambda para crear una columna nueva llamada 'IMC' (índice de masa corporal), de la forma en la que se indica en la página de Wikipedia"
   ]
  },
  {
   "cell_type": "code",
   "execution_count": null,
   "metadata": {},
   "outputs": [],
   "source": []
  },
  {
   "cell_type": "markdown",
   "metadata": {},
   "source": [
    "6- Utiliza el método apply y una función lambda para crear una columna en el DataFrame anterior llamada 'observaciones' tal que su valor sea:\n",
    "\n",
    "- 'índice bajo' si el IMC está por debajo de 18.5\n",
    "- 'índice medio' si el IMC está entre 18.5 y 24.9\n",
    "- 'índice alto' si el IMC está por encima de 24.9"
   ]
  },
  {
   "cell_type": "code",
   "execution_count": null,
   "metadata": {},
   "outputs": [],
   "source": []
  },
  {
   "cell_type": "markdown",
   "metadata": {},
   "source": [
    "7- Carga el dataset 'datos_estudio_2.csv' en un DataFrame llamado df_estudio_2. Utiliza el método pivot para transformarlo de formato long a formato wide, de forma que las filas sean las diferentes provincias y las columnas sean los diferentes trimestres"
   ]
  },
  {
   "cell_type": "code",
   "execution_count": null,
   "metadata": {},
   "outputs": [],
   "source": []
  },
  {
   "cell_type": "markdown",
   "metadata": {},
   "source": [
    "8- Al pivotar el DataFrame anterior se ha creado un multiindex en las columnas del DataFrame. Redefine las columnas para deshacer el multiindex, de forma que las nuevas columnas sean ['porcentaje-Q1', 'porcentaje-Q2', ..., 'importancia-Q1', 'importancia-Q2', ...]"
   ]
  },
  {
   "cell_type": "code",
   "execution_count": null,
   "metadata": {},
   "outputs": [],
   "source": []
  },
  {
   "cell_type": "markdown",
   "metadata": {},
   "source": [
    "9- Sobre el DataFrame que has generado, utiliza el método unstack para generar un DataFrame en el que haya tres columnas, el trimestre correspondiente, las opciones dadas por ['porcentaje-Q1', 'porcentaje-Q2', ..., 'importancia-Q1', 'importancia-Q2', ...] y el valor que corresponda a cada caso"
   ]
  },
  {
   "cell_type": "code",
   "execution_count": null,
   "metadata": {},
   "outputs": [],
   "source": []
  },
  {
   "cell_type": "markdown",
   "metadata": {},
   "source": [
    "10- Carga el dataset 'datos_estudio_3.csv' en un DataFrame llamado df_estudio_3. Este dataset es casi el mismo que antes pero, por carácterísticas del estudio que hacemos, hay dos entradas para (Q1, Segovia) y (Q3, Burgos) que tienen valores distintos. Queremos tener en cuenta ambos valores. Pivota la tabla como en el ejemplo anterior, pero ahora tendrás que utilizar una función de agregación para tener en cuenta la información redundante. Utiliza np.max como función de agregación"
   ]
  },
  {
   "cell_type": "code",
   "execution_count": null,
   "metadata": {},
   "outputs": [],
   "source": []
  },
  {
   "cell_type": "markdown",
   "metadata": {},
   "source": [
    "11- Carga los datasets 'datos_estudio_4_a.csv' y 'datos_estudio_4_b.csv' en DataFrames llamados df_estudio_4a y df_estudio_4b, respectivamente. Utiliza el método join para crear un DataFrame en el que se tenga en cuenta la información que aparece en ambos, unidos sobre la variable 'tipo', de forma que en el nuevo DataFrame sólo aparezcan los casos que ambos DataFrames tienen en común"
   ]
  },
  {
   "cell_type": "code",
   "execution_count": null,
   "metadata": {},
   "outputs": [],
   "source": []
  },
  {
   "cell_type": "markdown",
   "metadata": {},
   "source": [
    "12- Utiliza el método join para crear un nuevo DataFrame en el que se tenga en cuenta la información que aparece en df_estudio_4a y df_estudio_4b, unidos sobre la variable 'tipo', de forma que en el nuevo DataFrame aparezcan todos los casos que estén reflejados en el DataFrame df_estudio_4a"
   ]
  },
  {
   "cell_type": "code",
   "execution_count": null,
   "metadata": {},
   "outputs": [],
   "source": []
  },
  {
   "cell_type": "markdown",
   "metadata": {},
   "source": [
    "13- Utiliza el método join para crear un nuevo DataFrame en el que se tenga en cuenta la información que aparece en df_estudio_4a y df_estudio_4b, unidos sobre la variable 'tipo', de forma que en el nuevo DataFrame aparezcan todos los casos, bien sean de df_estudio_4a o de df_estudio_4b"
   ]
  },
  {
   "cell_type": "code",
   "execution_count": null,
   "metadata": {},
   "outputs": [],
   "source": []
  },
  {
   "cell_type": "markdown",
   "metadata": {},
   "source": [
    "14- Carga los datasets 'datos_estudio_5_a.csv' y 'datos_estudio_5_b.csv' en DataFrames llamados df_estudio_5a y df_estudio_5b, respectivamente. Crea un nuevo DataFrame concatenando estos dos DataFrames, de forma que las filas de df_estudio_5b se incorporen a continuación de las filas de df_estudio_5a. ¿Observas alguna peculiaridad en el resultado?"
   ]
  },
  {
   "cell_type": "code",
   "execution_count": null,
   "metadata": {},
   "outputs": [],
   "source": []
  },
  {
   "cell_type": "markdown",
   "metadata": {},
   "source": [
    "15- Crea un nuevo DataFrame concatenando df_estudio_5a y df_estudio_5b, de forma que las filas de df_estudio_5b se incorporen a continuación de las filas de df_estudio_5a y de forma que no aparezcan valores repetidos del índice"
   ]
  },
  {
   "cell_type": "code",
   "execution_count": null,
   "metadata": {},
   "outputs": [],
   "source": []
  }
 ],
 "metadata": {
  "kernelspec": {
   "display_name": "Python 3",
   "language": "python",
   "name": "python3"
  },
  "language_info": {
   "codemirror_mode": {
    "name": "ipython",
    "version": 3
   },
   "file_extension": ".py",
   "mimetype": "text/x-python",
   "name": "python",
   "nbconvert_exporter": "python",
   "pygments_lexer": "ipython3",
   "version": "3.8.10"
  }
 },
 "nbformat": 4,
 "nbformat_minor": 4
}
