{
 "cells": [
  {
   "cell_type": "markdown",
   "metadata": {},
   "source": [
    "1- Importa pandas con el alias pd, matplotlib.pyplot con el alias plt, seaborn con el alias sns y numpy con el alias np"
   ]
  },
  {
   "cell_type": "code",
   "execution_count": null,
   "metadata": {},
   "outputs": [],
   "source": []
  },
  {
   "cell_type": "markdown",
   "metadata": {},
   "source": [
    "2- Descarga el dataset de precios del aguacate por fechas y por regiones de Estados Unidos del siguiente enlace:\n",
    "\n",
    "https://www.kaggle.com/neuromusic/avocado-prices\n",
    "\n",
    "Crea un DataFrame llamado df_avo en el que aparezcan los datos del dataset"
   ]
  },
  {
   "cell_type": "code",
   "execution_count": null,
   "metadata": {},
   "outputs": [],
   "source": []
  },
  {
   "cell_type": "markdown",
   "metadata": {},
   "source": [
    "3- Cambia el nombre de la variable 'region' por 'Region'"
   ]
  },
  {
   "cell_type": "code",
   "execution_count": null,
   "metadata": {},
   "outputs": [],
   "source": []
  },
  {
   "cell_type": "markdown",
   "metadata": {},
   "source": [
    "4- Crea un array de regiones llamado 'regiones' en el que estén las regiones Albany, Boston, California, Chicago y Denver.\n",
    "\n",
    "Crea un DataFrame reducido llamado df_avo_red en el que sólo aparezcan las instancias cuya región es una de las regiones del array 'regiones'"
   ]
  },
  {
   "cell_type": "code",
   "execution_count": null,
   "metadata": {},
   "outputs": [],
   "source": []
  },
  {
   "cell_type": "markdown",
   "metadata": {},
   "source": [
    "5- Transforma el DataFrame df_avo_red de forma que los índices sean los valores de las fechas, las columnas sean las regiones del array 'regiones' y el contenido del DataFrame sean los precios del aguacate en cada región para cada día. Si necesitas usar una función de agregación, utiliza la media. "
   ]
  },
  {
   "cell_type": "code",
   "execution_count": null,
   "metadata": {},
   "outputs": [],
   "source": []
  },
  {
   "cell_type": "markdown",
   "metadata": {},
   "source": [
    "6- Representa en un gráfico de líneas el DataFrame anterior usando el método plot()"
   ]
  },
  {
   "cell_type": "code",
   "execution_count": null,
   "metadata": {},
   "outputs": [],
   "source": []
  },
  {
   "cell_type": "markdown",
   "metadata": {},
   "source": [
    "7- El gráfico anterior no es claro, los valores del eje x se superponen y no se pueden leer. Esto se debe a que Pandas no los tiene guardados en formato datetime, sino en formato string.Redefine el índice de df_avo_red de forma que represente los mismos días pero en formato datetime "
   ]
  },
  {
   "cell_type": "code",
   "execution_count": null,
   "metadata": {},
   "outputs": [],
   "source": []
  },
  {
   "cell_type": "markdown",
   "metadata": {},
   "source": [
    "8- Vuelve a representar df_avo_red en una gráfica de líneas usando el método plot() "
   ]
  },
  {
   "cell_type": "code",
   "execution_count": null,
   "metadata": {},
   "outputs": [],
   "source": []
  },
  {
   "cell_type": "markdown",
   "metadata": {},
   "source": [
    "9- Vuelve a representar el mismo gráfico de líneas pero aumentando su tamaño. El argumento 'figsize' permite definir el tamaño del gráfico en pulgadas. Define su tamaño de forma que sean 8 pulgadas para el eje x y 6 pulgadas para el eje y."
   ]
  },
  {
   "cell_type": "code",
   "execution_count": null,
   "metadata": {},
   "outputs": [],
   "source": []
  },
  {
   "cell_type": "markdown",
   "metadata": {},
   "source": [
    "10- Utiliza la librería Seaborn para representar un gráfico de cajas del DataFrame df_avo_red "
   ]
  },
  {
   "cell_type": "code",
   "execution_count": null,
   "metadata": {},
   "outputs": [],
   "source": []
  },
  {
   "cell_type": "markdown",
   "metadata": {},
   "source": [
    "11- Vuelve  arepresentar el gráfico de cajas para df_avo_red usando Seaborn. Esta vez, utiliza también métodos de Matplotlib para definir el tamaño de la figura (8 pulgadas para el eje x, 6 pulgadas para el eje y), añadir al eje y el nombre 'Precio del aguacate', añadir un grid al gráfico y finalmente mostrarlo."
   ]
  },
  {
   "cell_type": "code",
   "execution_count": null,
   "metadata": {},
   "outputs": [],
   "source": []
  },
  {
   "cell_type": "markdown",
   "metadata": {},
   "source": [
    "12- Responde a las siguientes preguntas:\n",
    "\n",
    "- ¿Podemos decir que el 25% de los valores del precio para Boston han sido mayores que el 75% de los precios para California?\n",
    "- ¿Albany y Boston tienen, aproximadamente, la misma mediana?\n",
    "- ¿Podemos decir que todas las regiones presentan valores extremos menos Albany, Boston y Chicago?\n"
   ]
  },
  {
   "cell_type": "code",
   "execution_count": null,
   "metadata": {},
   "outputs": [],
   "source": []
  },
  {
   "cell_type": "markdown",
   "metadata": {},
   "source": [
    "13- Descarga el siguiente dataset sobre el precio de las viviendas en Melbourne \n",
    "\n",
    "https://www.kaggle.com/anthonypino/melbourne-housing-market\n",
    "\n",
    "Guarda los datos en un DataFrame llamado df_melb"
   ]
  },
  {
   "cell_type": "code",
   "execution_count": null,
   "metadata": {},
   "outputs": [],
   "source": []
  },
  {
   "cell_type": "markdown",
   "metadata": {},
   "source": [
    "14- Representa en un gráfico de dispersión los valores de la distancia al distrito central (Distance) frente a los de año de construcción (YearBuilt). Utilizando los argumentos del método plot(), haz que la gráfica tenga un tamaño de 9x7 pulgadas y que sólo represente valores del año de construcción entre el año 1800 y el 2020. ¿Cómo ha evolucionado la distancia de las casas construidas al distrito central a lo largo de los años?"
   ]
  },
  {
   "cell_type": "code",
   "execution_count": null,
   "metadata": {},
   "outputs": [],
   "source": []
  },
  {
   "cell_type": "markdown",
   "metadata": {},
   "source": [
    "15- Descarga el siguiente dataset sobre bebés recién nacidos\n",
    "\n",
    "https://www.kaggle.com/c/csci-ml-s19-pa1/overview\n",
    "\n",
    "De entre los archivos que aparecen en la carpeta comprimida, utiliza el fichero baby-weights-dataset2.csv. Guarda los datos en un DataFrame llamado df_baby"
   ]
  },
  {
   "cell_type": "code",
   "execution_count": null,
   "metadata": {},
   "outputs": [],
   "source": []
  },
  {
   "cell_type": "markdown",
   "metadata": {},
   "source": [
    "16- Crea una columna llamada 'BWEIGHT-KG' en el que aparezcan los pesos de los bebés en kilogramos. Ten en cuenta que en la columna 'BWEIGHT' aparecen los pesos en libras, y que una libra son 0.453592 kilogramos."
   ]
  },
  {
   "cell_type": "code",
   "execution_count": null,
   "metadata": {},
   "outputs": [],
   "source": []
  },
  {
   "cell_type": "markdown",
   "metadata": {},
   "source": [
    "17- Se considera peso bajo para un bebé cuando pesa menos de 2.5 kg al nacer. Si el peso al nacer es superior a 4 kg se considera un peso alto. Crea una columna 'BWEIGHT-OBS' que valga 'low' para bebés con peso bajo, 'medium' para bebés con peso ni alto ni bajo y 'high' para bebés con peso alto."
   ]
  },
  {
   "cell_type": "code",
   "execution_count": null,
   "metadata": {},
   "outputs": [],
   "source": []
  },
  {
   "cell_type": "markdown",
   "metadata": {},
   "source": [
    "18- Para el conjunto de bebés con peso bajo, representa en una gráfica de barras el número de bebés cuyas madres tenían anemia y el número de bebés cuyas madres no tenían anemia. ¿Qué información se puede sacar de este gráfico? ¿Se puede decir que tener o no tener anemia es un factor de riesgo a la hora de dar a luz a un bebé con peso bajo?"
   ]
  },
  {
   "cell_type": "code",
   "execution_count": null,
   "metadata": {},
   "outputs": [],
   "source": []
  },
  {
   "cell_type": "markdown",
   "metadata": {},
   "source": [
    "19- Define una Serie de Pandas cuyos valores sean el número de bebés cuyas madres tenían anemia y el número de bebés para los que no. Para este cálculo, considera el DataFrame df_baby completo. "
   ]
  },
  {
   "cell_type": "code",
   "execution_count": null,
   "metadata": {},
   "outputs": [],
   "source": []
  },
  {
   "cell_type": "markdown",
   "metadata": {},
   "source": [
    "20- Representa en un gráfico de barras los valores normalizados del número de bebés cuyas madres tenían anemia y el número de bebés cuyas madres no tenían anemia, para el conjunto de bebés con peso bajo. Para obtener los valores normalizados, divide los valores obtenidos en el ejercicio 18 (valores del subconjunto de bebés con peso bajo) entre los valores obtenidos en el ejercicio 19 (valores del conjunto total). "
   ]
  },
  {
   "cell_type": "code",
   "execution_count": null,
   "metadata": {},
   "outputs": [],
   "source": []
  },
  {
   "cell_type": "markdown",
   "metadata": {},
   "source": [
    "21- Estos valores normalizados nos indican probabilidades. En una barra está representada la probabilidad de que el bebé nazca con peso bajo en el caso de que la madre tenga anemia. En la otra barra se representa la probabilidad de que el bebé nazca con peso bajo en el caso de que la madre no tenga anemia. Al representar las probabilidades de esta forma, conseguimos no tener en cuenta el hecho de que es mucho más normal no tener anemia que tenerla.\n",
    "\n",
    "¿Cuáles son los resultados cuando se analizan los datos de esta manera? ¿Coinciden tus conclusiones con las que obtuviste en el ejercicio 18?"
   ]
  },
  {
   "cell_type": "code",
   "execution_count": null,
   "metadata": {},
   "outputs": [],
   "source": []
  },
  {
   "cell_type": "code",
   "execution_count": null,
   "metadata": {},
   "outputs": [],
   "source": []
  }
 ],
 "metadata": {
  "kernelspec": {
   "display_name": "Python 3",
   "language": "python",
   "name": "python3"
  },
  "language_info": {
   "codemirror_mode": {
    "name": "ipython",
    "version": 3
   },
   "file_extension": ".py",
   "mimetype": "text/x-python",
   "name": "python",
   "nbconvert_exporter": "python",
   "pygments_lexer": "ipython3",
   "version": "3.8.10"
  }
 },
 "nbformat": 4,
 "nbformat_minor": 4
}
